{
 "cells": [
  {
   "cell_type": "markdown",
   "metadata": {},
   "source": [
    "### Note\n",
    "* Instructions have been included for each segment. You do not have to follow them exactly, but they are included to help you think through the steps."
   ]
  },
  {
   "cell_type": "code",
   "execution_count": null,
   "metadata": {},
   "outputs": [],
   "source": [
    "## Dependencies and Setup\n",
    "import pandas as pd\n",
    "\n",
    "# File to Load (Remember to Change These)\n",
    "school_data_to_load = \"schools_complete.csv\"\n",
    "student_data_to_load = \"students_complete.csv\"\n",
    "\n",
    "# Read School and Student Data File and store into Pandas Data Frames\n",
    "school_data = pd.read_csv(school_data_to_load)\n",
    "school_data.head()\n",
    "\n",
    "# to check the number of schools\n",
    "#school_data.tail()"
   ]
  },
  {
   "cell_type": "code",
   "execution_count": null,
   "metadata": {},
   "outputs": [],
   "source": [
    "# Read School and Student Data File and store into Pandas Data Frames\n",
    "student_data_ = pd.read_csv(student_data_to_load)\n",
    "student_data.head()\n",
    "\n",
    "# to check the number of students\n",
    "#student_data.tail()"
   ]
  },
  {
   "cell_type": "code",
   "execution_count": null,
   "metadata": {},
   "outputs": [],
   "source": [
    "# Combine the data into a single dataset\n",
    "school_data_complete = pd.merge(student_data, school_data, how='left', on=['school_name', 'school_name'])\n",
    "school_data_complete.head()"
   ]
  },
  {
   "cell_type": "code",
   "execution_count": null,
   "metadata": {},
   "outputs": [],
   "source": [
    "# School Names - needed for grouping //////////// JUST TESTING THE DATA FOR THE SCHOOL NAME INFO NEEDED IN SCHOOL SUMMARY\n",
    "#for school_name in range()\n",
    "#my_dict = {\"Huang High School\", \"Figueroa High School\", \"Shelton High School\", \"Hernandez High School\", \"Griffin High School\", \"Wilson High School\", \"Cabrera High School\", \"Bailey High School\", \"Pena High School\", \"Wright High School\", \"Rodriguez High School\", \"Johnson High School\", \"Ford High School\", \"Thomas High School\"}\n",
    "#my_schoolname = (my_dict)\n",
    "#my_schoolname"
   ]
  },
  {
   "cell_type": "code",
   "execution_count": null,
   "metadata": {},
   "outputs": [],
   "source": [
    "#  Calculate the total number of schools - ex: from Extra Content Stu projects part 1 activity\n",
    "#Print with formating sting using f\" \n",
    "total_number_school = len(school_data)\n",
    "total_number_school"
   ]
  },
  {
   "cell_type": "code",
   "execution_count": null,
   "metadata": {},
   "outputs": [],
   "source": [
    "# Calculate the total number of students\n",
    "total_number_students = len(student_data)\n",
    "total_number_students"
   ]
  },
  {
   "cell_type": "code",
   "execution_count": null,
   "metadata": {},
   "outputs": [],
   "source": [
    "# Calculate the total budget\n",
    "total_budget = school_data[\"budget\"].sum()\n",
    "total_budget"
   ]
  },
  {
   "cell_type": "code",
   "execution_count": null,
   "metadata": {},
   "outputs": [],
   "source": [
    "# Calculate the average math score - #### USE MEAN FOR THE AVERAGE ###\n",
    "avg_math_score = round(student_data[\"math_score\"].mean(),2)\n",
    "avg_math_score"
   ]
  },
  {
   "cell_type": "code",
   "execution_count": null,
   "metadata": {},
   "outputs": [],
   "source": [
    "# Calculate the average reading score - ### USE MEAN FOR THE AVERAGE ###\n",
    "avg_reading_score = round(student_data[\"reading_score\"].mean(),2)\n",
    "avg_reading_score"
   ]
  },
  {
   "cell_type": "code",
   "execution_count": null,
   "metadata": {},
   "outputs": [],
   "source": [
    "#* Calculate the percentage of students with a passing math score (70 or greater)\n",
    "#percent of studenents = avg math score/total number of students * 100\n",
    "# can't use print(students passing math) because this needs to use a f string  ex:print(f\" Total: {total_gender}\\n Male: {male}\\n Female: {female}\\n non_specfic: {non_gender_specific}\") \n",
    "students_passing_math = school_data_complete.loc[school_data_complete[\"math_score\"] >= 70]\n",
    "total_students_passing_math = students_passing_math[\"Student ID\"].count()\n",
    "per_passing_math = round((total_students_passing_math/total_number_students) * 100,2)\n",
    "\n",
    "print(f\"{per_passing_math:}%\")"
   ]
  },
  {
   "cell_type": "code",
   "execution_count": null,
   "metadata": {},
   "outputs": [],
   "source": [
    "# Calculate the percentage of students with a passing reading score (70 or greater)\n",
    "students_passing_reading = school_data_complete.loc[school_data_complete[\"reading_score\"] >= 70]\n",
    "total_students_passing_reading = students_passing_reading[\"Student ID\"].nunique()\n",
    "per_passing_reading = round((total_students_passing_reading/total_number_students) * 100,2)\n",
    "\n",
    "print(f\"{per_passing_reading:}%\")"
   ]
  },
  {
   "cell_type": "code",
   "execution_count": null,
   "metadata": {},
   "outputs": [],
   "source": [
    "# Calculate the overall passing rate (overall average score), i.e. (avg. math score + avg. reading score)/2\n",
    "overall_passing_rate = (avg_math_score + avg_reading_score)/2\n",
    "overall_passing_rate"
   ]
  },
  {
   "cell_type": "code",
   "execution_count": null,
   "metadata": {},
   "outputs": [],
   "source": [
    "#Create a dataframe to hold the above results - EXAMPLE FROM STU PROJECTS PART 1 - \n",
    "#Total # of Schools\n",
    "#Total # of Students\n",
    "# Total Budget\n",
    "# Average Math & reading score\n",
    "# % Passing Math\n",
    "# % Passing Reading \n",
    "#Overall Passing Rate\n",
    "# Clean formatting before outputting spreadsheet - \"{0:,.6f}%\"\n",
    "District_Summary = pd.DataFrame({\n",
    "    \"Total Schools\":[total_number_school],\n",
    "    \"Total Students\": f\"{total_number_students:,}\",\n",
    "    \"Total Budget\": f\"${total_budget:,}\",\n",
    "    \"Average Math Score\": f\"{avg_math_score:.0f}\",\n",
    "    \"Average Reading Score\":f\"{avg_reading_score:.0f}\",\n",
    "    \"% Passing Math\": f\"{per_passing_math:.0f}%\",\n",
    "    \"% Passing Reading\": f\"{per_passing_reading:.0f}%\",\n",
    "    \"Overall Passing Rate\": f\"{overall_passing_rate:.0f}%\"\n",
    "}) \n",
    "District_Summary = District_Summary[[\"Total Schools\", \"Total Students\", \"Total Budget\", \"Average Math Score\", \"Average Reading Score\", \"% Passing Math\", \"% Passing Reading\", \"Overall Passing Rate\"]]\n",
    "\n",
    "District_Summary"
   ]
  },
  {
   "cell_type": "markdown",
   "metadata": {},
   "source": [
    "## District Summary\n",
    "\n",
    "* Calculate the total number of schools\n",
    "\n",
    "* Calculate the total number of students\n",
    "\n",
    "* Calculate the total budget\n",
    "\n",
    "* Calculate the average math score \n",
    "\n",
    "* Calculate the average reading score\n",
    "\n",
    "* Calculate the overall passing rate (overall average score), i.e. (avg. math score + avg. reading score)/2\n",
    "\n",
    "* Calculate the percentage of students with a passing math score (70 or greater)\n",
    "\n",
    "* Calculate the percentage of students with a passing reading score (70 or greater)\n",
    "\n",
    "* Create a dataframe to hold the above results\n",
    "\n",
    "* Optional: give the displayed data cleaner formatting"
   ]
  },
  {
   "cell_type": "markdown",
   "metadata": {},
   "source": [
    "## School Summary"
   ]
  },
  {
   "cell_type": "markdown",
   "metadata": {},
   "source": [
    "* Create an overview table that summarizes key metrics about each school, including:\n",
    "  * School Name\n",
    "  * School Type\n",
    "  * Total Students\n",
    "  * Total School Budget\n",
    "  * Per Student Budget\n",
    "  * Average Math Score\n",
    "  * Average Reading Score\n",
    "  * % Passing Math\n",
    "  * % Passing Reading\n",
    "  * Overall Passing Rate (Average of the above two)\n",
    "  \n",
    "* Create a dataframe to hold the above results"
   ]
  },
  {
   "cell_type": "code",
   "execution_count": null,
   "metadata": {},
   "outputs": [],
   "source": [
    "# - EXPLORING PANDAS ACTIVITY IN SUPPLEMENTAL PANDAS \n",
    "#Create dateframe for school info \n",
    "# Combine the data into a single dataset\n",
    "school_data_combined_df = pd.merge(student_data, school_data, how='left', on=['school_name', 'school_name'])\n",
    "school_data_combined_df.head()"
   ]
  },
  {
   "cell_type": "code",
   "execution_count": null,
   "metadata": {},
   "outputs": [],
   "source": [
    "# EXPLORING PANDAS ACTIVITY IN SUPPLEMENTAL PANDAS \n",
    "#School Name\n",
    "#grouped_df = original_df.groupby('column1')\n",
    "#Pull data from \"school_name\" values\n",
    "grouped_school_data = school_data_combined_df.groupby(['school_name', 'type']).count()['Student ID']\n",
    "grouped_school_data\n",
    "#print(f\"School Name: {grouped_school_data}\") "
   ]
  },
  {
   "cell_type": "code",
   "execution_count": null,
   "metadata": {},
   "outputs": [],
   "source": [
    "#School Type\n",
    "summary_school_type = grouped_school_data.groupby(['school_name', 'type']).count()\n",
    "summary_school_type"
   ]
  },
  {
   "cell_type": "code",
   "execution_count": null,
   "metadata": {},
   "outputs": [],
   "source": [
    "# Summarize the total number of students\n",
    "summary_total_number_students = school_data_combined_df.groupby([\"school_name\"]).count()[\"size\"]\n",
    "summary_total_number_students"
   ]
  },
  {
   "cell_type": "code",
   "execution_count": null,
   "metadata": {},
   "outputs": [],
   "source": [
    "#Summary for total school budget\n",
    "summary_total_school_budget = school_data_combined_df.groupby([\"school_name\"]).mean()[\"budget\"]\n",
    "summary_total_school_budget"
   ]
  },
  {
   "cell_type": "code",
   "execution_count": null,
   "metadata": {},
   "outputs": [],
   "source": [
    "#Summarize the Per Student Budget -  - EXPLORING PANDAS ACTIVITY IN SUPPLEMENTAL PANDAS \n",
    "# Have to combine the two data sets into a single dataset to do the math\n",
    "# per student budget = total school budget / school size\n",
    "per_student_budget = (summary_total_school_budget/summary_total_number_students)*100\n",
    "per_student_budget"
   ]
  },
  {
   "cell_type": "code",
   "execution_count": null,
   "metadata": {},
   "outputs": [],
   "source": [
    "#Average Math Score\n",
    "summary_avg_math_score = round(school_data_combined_df.groupby(['school_name']).mean()['math_score'],2)\n",
    "summary_avg_math_score"
   ]
  },
  {
   "cell_type": "code",
   "execution_count": null,
   "metadata": {},
   "outputs": [],
   "source": [
    "#Average Reading Score\n",
    "summary_avg_reading_score = round(school_data_combined_df.groupby(['school_name']).mean()['reading_score'],2)\n",
    "summary_avg_reading_score"
   ]
  },
  {
   "cell_type": "code",
   "execution_count": null,
   "metadata": {},
   "outputs": [],
   "source": [
    "#% Passing Math & #% Passing Reading - **** NOTES FOR ME BELOW *****need to group the number passing by each school\n",
    "#total_students_passing_math = summary_passing_math.groupby([\"Student ID\"]).counts() - original passing grades above in district summary\n",
    "#students_passing_math = school_data_complete.loc[school_data_complete[\"math_score\"] >= 70]\n",
    "#total_students_passing_math = students_passing_math[\"Student ID\"].count()\n",
    "#per_passing_math = total_students_passing_math/total_number_students * 100\n",
    "summary_passing_math = school_data_combined_df[school_data_combined_df[\"math_score\"] >= 70]\n",
    "per_school_passing_math = summary_passing_math.groupby([\"school_name\"]).count()['student_name']\n",
    "per_summary_passing_math = round((per_school_passing_math/summary_total_number_students)*100,2)\n",
    "summary_passing_math.head()\n"
   ]
  },
  {
   "cell_type": "code",
   "execution_count": null,
   "metadata": {},
   "outputs": [],
   "source": [
    "#% Passing Reading\n",
    "summary_passing_reading = school_data_combined_df[school_data_combined_df[\"reading_score\"] >= 70]\n",
    "per_school_passing_reading = summary_passing_reading.groupby([\"school_name\"]).count()['student_name']\n",
    "per_summary_passing_reading = round((per_school_passing_reading/summary_total_number_students)*100,2)\n",
    "summary_passing_reading.head()"
   ]
  },
  {
   "cell_type": "code",
   "execution_count": null,
   "metadata": {},
   "outputs": [],
   "source": [
    "#Overall Passing Rate (Average of the above two)\n",
    "school_overall_passing_rate = (per_summary_passing_math + per_summary_passing_reading)/2\n",
    "school_overall_passing_rate"
   ]
  },
  {
   "cell_type": "code",
   "execution_count": null,
   "metadata": {},
   "outputs": [],
   "source": [
    "#Merge two dataframes \n",
    "# Merge the two created data frames on the name of the school name\n",
    "#merged_df = pd.merge(bootcamp_name, recommend_bootcamp, on=\"school_name\")\n",
    "school_summary_df = pd.merge(summary_passing_math, summary_passing_reading, on=['school_name'])\n"
   ]
  },
  {
   "cell_type": "code",
   "execution_count": null,
   "metadata": {},
   "outputs": [],
   "source": [
    "# Create a dataframe to hold the above results \n",
    "#  * School Name\n",
    "#  * School Type\n",
    "#  * Total Students\n",
    "#  * Total School Budget\n",
    "#  * Per Student Budget\n",
    "#  * Average Math Score\n",
    "#  * Average Reading Score\n",
    "#  * % Passing Math\n",
    "#  * % Passing Reading\n",
    "#  * Overall Passing Rate (Average of the above two)  \n",
    "\n",
    "# Drop all rows with missing information\n",
    "#df = df.dropna(how='any')"
   ]
  },
  {
   "cell_type": "code",
   "execution_count": null,
   "metadata": {},
   "outputs": [],
   "source": [
    "school_summary_df = pd.DataFrame({\"School Type\":summary_school_type,\n",
    "    \"Total Students\": summary_total_number_students,\n",
    "    \"Total School Budget\":summary_total_school_budget,\n",
    "    \"Per Student Budget\":per_student_budget})\n",
    "#    \"Average Math Score\":summary_avg_math_score,\n",
    "#    \"Average Reading Score\":summary_avg_reading_score,\n",
    "#    \"% Passing Math\":summary_passing_math\n",
    "#    \"Overall Passing Rate:school_overall_passing_rate})\n",
    "#school_summary_df = school_summary_df.dropna(subset=['school_name', 'student_name', 'grade', 'reading_score', 'math_score', 'type', 'size', 'budget']\n",
    "school_summary_df.head()                                  "
   ]
  },
  {
   "cell_type": "markdown",
   "metadata": {},
   "source": [
    "## Top Performing Schools (By Passing Rate)"
   ]
  },
  {
   "cell_type": "markdown",
   "metadata": {},
   "source": [
    "* Sort and display the top five schools in overall passing rate"
   ]
  },
  {
   "cell_type": "code",
   "execution_count": null,
   "metadata": {},
   "outputs": [],
   "source": [
    "# Sort and display the top five schools in overall passing rate\n",
    "# Sort results in descending order\n",
    "# merged_df = merged_df.sort_values([\"% Recommend\"], ascending=False).round(2) & print head for the top 5\n",
    "top_five_perfoming_schools = school_summary_df.sort_values([\"Overall Passing Rate\"], ascending=True).round(2)\n",
    "top_five_perfoming_schools.head(5)"
   ]
  },
  {
   "cell_type": "markdown",
   "metadata": {},
   "source": [
    "## Bottom Performing Schools (By Passing Rate)"
   ]
  },
  {
   "cell_type": "markdown",
   "metadata": {},
   "source": [
    "* Sort and display the five worst-performing schools"
   ]
  },
  {
   "cell_type": "code",
   "execution_count": null,
   "metadata": {},
   "outputs": [],
   "source": [
    "# Sort results in descending order\n",
    "# Sort and display the top five schools in overall passing rate\n",
    "# merged_df = merged_df.sort_values([\"% Recommend\"], ascending=True).round(2) & print tail() for the last 5 \n",
    "worst_five_perfoming_schools = school_summary_df.sort_values([\"Overall Passing Rate\"], ascending=False).round(2)\n",
    "worst_five_perfoming_schools.tail(5)"
   ]
  },
  {
   "cell_type": "markdown",
   "metadata": {},
   "source": [
    "## Math Scores by Grade"
   ]
  },
  {
   "cell_type": "markdown",
   "metadata": {},
   "source": [
    "* Create a table that lists the average Reading Score for students of each grade level (9th, 10th, 11th, 12th) at each school.\n",
    "\n",
    "  * Create a pandas series for each grade. Hint: use a conditional statement.\n",
    "  \n",
    "  * Group each series by school\n",
    "  \n",
    "  * Combine the series into a dataframe\n",
    "  \n",
    "  * Optional: give the displayed data cleaner formatting"
   ]
  },
  {
   "cell_type": "code",
   "execution_count": null,
   "metadata": {},
   "outputs": [],
   "source": [
    "#* Create a table that lists the average MATH Score for students of each grade level (9th, 10th, 11th, 12th) at each school.\n",
    "#Series for each grade level & grade math scores - 9th, 10th, 11th, & 12th grade \n",
    "#bootcamp_name.reset_index(inplace=True)\n",
    "#bootcamp_name.columns = [\"BootcampName\", \"Count\"]\n",
    "\n",
    "#school_math_grades.columns = [\"school_name\", \"grade\", \"math_score\"]\n",
    "school_math_grades = school_data_combined_df.groupby(['grade', 'school_name']).mean()['math_score']\n",
    "school_math_grades_final =pd.DataFrame(school_math_grades)\n",
    "school_math_grades_final"
   ]
  },
  {
   "cell_type": "code",
   "execution_count": null,
   "metadata": {},
   "outputs": [],
   "source": [
    "#Group each series by school - 9th, 10th, 11th, & 12th grade \n",
    "\n",
    "school_level_math_grades = school_data_combined_df.groupby(['school_name', 'grade']).mean()['math_score']\n",
    "#school_level_math_grades.columns = [\"school_name\", \"math_score\"]\n",
    "school_level_math_grades"
   ]
  },
  {
   "cell_type": "code",
   "execution_count": null,
   "metadata": {},
   "outputs": [],
   "source": [
    "######### NOTE TO TA I STILL ATTEMPTED TO CREATE THE CODE EVEN THOUGH I WAS HAVING TROUBLE WITH MY SCHOOL SUMMARY \n",
    "######### THE CODE HAS BEEN COMMITED OUT DUE TO ERRORS\n",
    "# Combine the series into a dataframe for each grade level at each school. NEED TO MERGE TWO DATAFRAME\n",
    "avg_combined_math_grades_merged = pd.merge(school_level_math_grades, school_math_grades, on=[\"math_score\", \"grade\", \"school_name\"])\n",
    "avg_combined_math_grades_merged\n",
    "\n",
    "\n",
    "### CREATE DATE FRAME WITH COLUMN NAMES\n",
    "#school_math_grades = pd.DataFrame(columns = [\"9th\", \"10th\", \"11th\", \"12th\"])\n",
    "#combined_math_scores_by_grade = pd.DataFrame({\"9th\": school_math_grades,\n",
    "#                                             \"10th\": school_math_grades,\n",
    "#                                             \"11th\": school_math_grades,\n",
    "#                                             \"12th\": school_math_grades})\n",
    "#combined_math_scores_by_grade = "
   ]
  },
  {
   "cell_type": "markdown",
   "metadata": {},
   "source": [
    "## Reading Score by Grade "
   ]
  },
  {
   "cell_type": "markdown",
   "metadata": {},
   "source": [
    "* Perform the same operations as above for reading scores"
   ]
  },
  {
   "cell_type": "code",
   "execution_count": null,
   "metadata": {},
   "outputs": [],
   "source": [
    "#* Create a table that lists the average Reading Score for students of each grade level (9th, 10th, 11th, 12th) at each school.\n",
    "\n",
    "school_read_grades = round(school_data_combined_df.groupby(['grade']).mean()['reading_score'],2)\n",
    "school_read_grades"
   ]
  },
  {
   "cell_type": "code",
   "execution_count": null,
   "metadata": {},
   "outputs": [],
   "source": [
    "#Group each series by school - 9th, 10th, 11th, & 12th grade \n",
    "school_level_reading_grades = round(school_data_combined_df.groupby(['school_name']).mean()['reading_score'],2)\n",
    "school_level_reading_grades"
   ]
  },
  {
   "cell_type": "markdown",
   "metadata": {},
   "source": [
    "## Scores by School Spending"
   ]
  },
  {
   "cell_type": "markdown",
   "metadata": {},
   "source": [
    "* Create a table that breaks down school performances based on average Spending Ranges (Per Student). Use 4 reasonable bins to group school spending. Include in the table each of the following:\n",
    "  * Average Math Score\n",
    "  * Average Reading Score\n",
    "  * % Passing Math\n",
    "  * % Passing Reading\n",
    "  * Overall Passing Rate (Average of the above two)"
   ]
  },
  {
   "cell_type": "code",
   "execution_count": null,
   "metadata": {},
   "outputs": [],
   "source": [
    "# Sample bins. Feel free to create your own bins. - EXPLORING PANDAS ACTIVITY IN SUPPLEMENTAL PANDAS \n",
    "spending_bins = [0, 585, 615, 645, 675]\n",
    "group_names = [\"<$585\", \"$585-615\", \"$615-645\", \"$645-675\"]"
   ]
  },
  {
   "cell_type": "code",
   "execution_count": null,
   "metadata": {},
   "outputs": [],
   "source": [
    "# 1st cut() the dataframe column you'd like to bin\n",
    "#pd.cut(vehicles_df[\"Horsepower\"], hp_bins, labels=hp_labels)\n",
    "#vehicles_df[\"Speed\"] = pd.cut(vehicles_df[\"Horsepower\"], hp_bins, labels=hp_labels)\n",
    "#vehicles_df\n",
    "school_summary_df[\"Scores by School Spending\"] = pd.cut(school_summary_df[\"per_student_budget\"]/school_summary_df[\"size\"], spending_bins, labels = group_names)\n",
    "school_summary_df"
   ]
  },
  {
   "cell_type": "code",
   "execution_count": null,
   "metadata": {},
   "outputs": [],
   "source": [
    "# Creare the breakdowns for the date below\n",
    "\n",
    "# Average Math Score School Spending - Breakdown by each school spending average\n",
    "\n",
    "# Average Reading Score School Spending - Breakdown by each school spending average\n",
    "\n",
    "# % Passing Math School Spending - Breakdown by each school spending average\n",
    "\n",
    "# % Passing Reading School Spending - Breakdown by each school spending average\n",
    "\n",
    "# Overall Passing Rate School Spending - Breakdown by each school spending average\n"
   ]
  },
  {
   "cell_type": "markdown",
   "metadata": {},
   "source": [
    "## Scores by School Size"
   ]
  },
  {
   "cell_type": "markdown",
   "metadata": {},
   "source": [
    "* Perform the same operations as above, based on school size."
   ]
  },
  {
   "cell_type": "code",
   "execution_count": null,
   "metadata": {},
   "outputs": [],
   "source": [
    "# Sample bins. Feel free to create your own bins.\n",
    "size_bins = [0, 1000, 2000, 5000]\n",
    "group_names = [\"Small (<1000)\", \"Medium (1000-2000)\", \"Large (2000-5000)\"]"
   ]
  },
  {
   "cell_type": "code",
   "execution_count": null,
   "metadata": {
    "scrolled": true
   },
   "outputs": [],
   "source": []
  },
  {
   "cell_type": "markdown",
   "metadata": {},
   "source": [
    "## Scores by School Type"
   ]
  },
  {
   "cell_type": "markdown",
   "metadata": {},
   "source": [
    "* Perform the same operations as above, based on school type."
   ]
  },
  {
   "cell_type": "code",
   "execution_count": null,
   "metadata": {},
   "outputs": [],
   "source": []
  }
 ],
 "metadata": {
  "anaconda-cloud": {},
  "kernel_info": {
   "name": "python3"
  },
  "kernelspec": {
   "display_name": "PythonData",
   "language": "python",
   "name": "pythondata"
  },
  "language_info": {
   "codemirror_mode": {
    "name": "ipython",
    "version": 3
   },
   "file_extension": ".py",
   "mimetype": "text/x-python",
   "name": "python",
   "nbconvert_exporter": "python",
   "pygments_lexer": "ipython3",
   "version": "3.6.10"
  },
  "latex_envs": {
   "LaTeX_envs_menu_present": true,
   "autoclose": false,
   "autocomplete": true,
   "bibliofile": "biblio.bib",
   "cite_by": "apalike",
   "current_citInitial": 1,
   "eqLabelWithNumbers": true,
   "eqNumInitial": 1,
   "hotkeys": {
    "equation": "Ctrl-E",
    "itemize": "Ctrl-I"
   },
   "labels_anchors": false,
   "latex_user_defs": false,
   "report_style_numbering": false,
   "user_envs_cfg": false
  },
  "nteract": {
   "version": "0.8.4"
  }
 },
 "nbformat": 4,
 "nbformat_minor": 4
}
